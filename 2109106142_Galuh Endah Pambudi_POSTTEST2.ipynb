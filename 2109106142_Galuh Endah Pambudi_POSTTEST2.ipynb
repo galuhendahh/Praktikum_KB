{
 "cells": [
  {
   "cell_type": "markdown",
   "id": "c3cd778d-9f51-4edf-9860-f395fa8feb8f",
   "metadata": {},
   "source": [
    "# POSTTEST 2\n",
    "\n",
    "***NAMA : GALUH ENDAH PAMBUDI***\n",
    "***NIM : 21091006142***"
   ]
  },
  {
   "cell_type": "markdown",
   "id": "41d8d9c0-9bea-4bf5-b1b4-6036e9ed3d90",
   "metadata": {},
   "source": [
    "***1. Tampilkan rata-rata, standar deviasi, nilai minimum, nilai maksimum, Q1, Q2, dan Q3 dari attribute bertipe angka.***"
   ]
  },
  {
   "cell_type": "code",
   "execution_count": null,
   "id": "4f783db4-99d2-4ff9-9972-bf75825096cf",
   "metadata": {},
   "outputs": [],
   "source": [
    "import pandas as pd\n",
    "\n",
    "produk = pd.read_csv('product_reviews_dirty.csv')\n",
    "produk = produk.select_dtypes([\"float\",\"int\"])\n",
    "produk.describe()"
   ]
  },
  {
   "cell_type": "markdown",
   "id": "ed401531-4e87-4b26-88ce-f86730cc24be",
   "metadata": {},
   "source": [
    "***2. Tampilkan 10 record pertama dari dataset dengan attribute bertipe angka***"
   ]
  },
  {
   "cell_type": "code",
   "execution_count": 3,
   "id": "6773f4cd-dddd-4656-bf4e-0bdee3601f78",
   "metadata": {},
   "outputs": [
    {
     "data": {
      "text/html": [
       "<div>\n",
       "<style scoped>\n",
       "    .dataframe tbody tr th:only-of-type {\n",
       "        vertical-align: middle;\n",
       "    }\n",
       "\n",
       "    .dataframe tbody tr th {\n",
       "        vertical-align: top;\n",
       "    }\n",
       "\n",
       "    .dataframe thead th {\n",
       "        text-align: right;\n",
       "    }\n",
       "</style>\n",
       "<table border=\"1\" class=\"dataframe\">\n",
       "  <thead>\n",
       "    <tr style=\"text-align: right;\">\n",
       "      <th></th>\n",
       "      <th>Unnamed: 0</th>\n",
       "      <th>rating</th>\n",
       "      <th>product_id</th>\n",
       "      <th>shop_id</th>\n",
       "    </tr>\n",
       "  </thead>\n",
       "  <tbody>\n",
       "    <tr>\n",
       "      <th>0</th>\n",
       "      <td>1</td>\n",
       "      <td>5</td>\n",
       "      <td>418660637</td>\n",
       "      <td>1740837</td>\n",
       "    </tr>\n",
       "    <tr>\n",
       "      <th>1</th>\n",
       "      <td>2</td>\n",
       "      <td>5</td>\n",
       "      <td>416032545</td>\n",
       "      <td>1477109</td>\n",
       "    </tr>\n",
       "    <tr>\n",
       "      <th>2</th>\n",
       "      <td>3</td>\n",
       "      <td>5</td>\n",
       "      <td>416032545</td>\n",
       "      <td>1477109</td>\n",
       "    </tr>\n",
       "    <tr>\n",
       "      <th>3</th>\n",
       "      <td>4</td>\n",
       "      <td>5</td>\n",
       "      <td>102279869</td>\n",
       "      <td>771395</td>\n",
       "    </tr>\n",
       "    <tr>\n",
       "      <th>4</th>\n",
       "      <td>5</td>\n",
       "      <td>5</td>\n",
       "      <td>190679689</td>\n",
       "      <td>969999</td>\n",
       "    </tr>\n",
       "    <tr>\n",
       "      <th>5</th>\n",
       "      <td>6</td>\n",
       "      <td>5</td>\n",
       "      <td>190679689</td>\n",
       "      <td>969999</td>\n",
       "    </tr>\n",
       "    <tr>\n",
       "      <th>6</th>\n",
       "      <td>7</td>\n",
       "      <td>5</td>\n",
       "      <td>190679689</td>\n",
       "      <td>969999</td>\n",
       "    </tr>\n",
       "    <tr>\n",
       "      <th>7</th>\n",
       "      <td>8</td>\n",
       "      <td>5</td>\n",
       "      <td>190679689</td>\n",
       "      <td>969999</td>\n",
       "    </tr>\n",
       "    <tr>\n",
       "      <th>8</th>\n",
       "      <td>10</td>\n",
       "      <td>5</td>\n",
       "      <td>316217334</td>\n",
       "      <td>231740</td>\n",
       "    </tr>\n",
       "    <tr>\n",
       "      <th>9</th>\n",
       "      <td>11</td>\n",
       "      <td>5</td>\n",
       "      <td>316217334</td>\n",
       "      <td>231740</td>\n",
       "    </tr>\n",
       "  </tbody>\n",
       "</table>\n",
       "</div>"
      ],
      "text/plain": [
       "   Unnamed: 0  rating  product_id  shop_id\n",
       "0           1       5   418660637  1740837\n",
       "1           2       5   416032545  1477109\n",
       "2           3       5   416032545  1477109\n",
       "3           4       5   102279869   771395\n",
       "4           5       5   190679689   969999\n",
       "5           6       5   190679689   969999\n",
       "6           7       5   190679689   969999\n",
       "7           8       5   190679689   969999\n",
       "8          10       5   316217334   231740\n",
       "9          11       5   316217334   231740"
      ]
     },
     "execution_count": 3,
     "metadata": {},
     "output_type": "execute_result"
    }
   ],
   "source": [
    "produk = produk.select_dtypes([\"float\",\"int\"])\n",
    "produk.head(10)"
   ]
  },
  {
   "cell_type": "markdown",
   "id": "dcf14f1e-1312-48cf-b739-1163b0888da0",
   "metadata": {},
   "source": [
    "***3. Tampilkan informasi jumlah record, jumlah attribute, nama attribute, jumlah attribute dengan tipe angka. Masukkan informasi tersebut dalam dictionary dengan key sesuai nama informasinya. Tampilkan isi dari dictionary tersebut sebagus mungkin.***"
   ]
  },
  {
   "cell_type": "code",
   "execution_count": 8,
   "id": "59f13f14-bc41-44a0-94d1-de7d040a24b1",
   "metadata": {},
   "outputs": [
    {
     "name": "stdout",
     "output_type": "stream",
     "text": [
      "Jumlah Record : 40607\n",
      "Jumlah Attribute : 4\n",
      "Nama Attribute :  ['Unnamed: 0', 'rating', 'product_id', 'shop_id']\n",
      "Jumlah Object : 4\n",
      "Jumlah Nilai Null : 0\n"
     ]
    }
   ],
   "source": [
    "record, attribute = produk.shape\n",
    "jml_object = produk.select_dtypes([\"float\", \"int\"]).any().sum()\n",
    "nama_attribute = produk.columns.values\n",
    "jml_null = produk.isnull().any().sum()\n",
    "\n",
    "info = {\"Jumlah Record :\": record, \n",
    "        \"Jumlah Attribute :\" : attribute, \n",
    "        \"Nama Attribute : \" : list(nama_attribute), \n",
    "        \"Jumlah Object :\" : jml_object, \n",
    "        \"Jumlah Nilai Null :\": jml_null}\n",
    "\n",
    "for x in info :\n",
    "    print(x, info[x])"
   ]
  },
  {
   "cell_type": "markdown",
   "id": "2b5f0e9e-f24f-4be4-bd30-2c50b5c5884c",
   "metadata": {},
   "source": [
    "***4. Tampilkan nilai dataset pada baris dimulai dengan 3 digit NIM akhir hingga data terakhir dan kolom ke 4 hingga kolom terakhir menggunakan ke 2 metode slice.***"
   ]
  },
  {
   "cell_type": "code",
   "execution_count": 10,
   "id": "6d982643-74a6-4c9e-a95c-fe34df380a90",
   "metadata": {},
   "outputs": [
    {
     "data": {
      "text/html": [
       "<div>\n",
       "<style scoped>\n",
       "    .dataframe tbody tr th:only-of-type {\n",
       "        vertical-align: middle;\n",
       "    }\n",
       "\n",
       "    .dataframe tbody tr th {\n",
       "        vertical-align: top;\n",
       "    }\n",
       "\n",
       "    .dataframe thead th {\n",
       "        text-align: right;\n",
       "    }\n",
       "</style>\n",
       "<table border=\"1\" class=\"dataframe\">\n",
       "  <thead>\n",
       "    <tr style=\"text-align: right;\">\n",
       "      <th></th>\n",
       "      <th>shop_id</th>\n",
       "    </tr>\n",
       "  </thead>\n",
       "  <tbody>\n",
       "    <tr>\n",
       "      <th>142</th>\n",
       "      <td>580197</td>\n",
       "    </tr>\n",
       "    <tr>\n",
       "      <th>143</th>\n",
       "      <td>580197</td>\n",
       "    </tr>\n",
       "    <tr>\n",
       "      <th>144</th>\n",
       "      <td>580197</td>\n",
       "    </tr>\n",
       "    <tr>\n",
       "      <th>145</th>\n",
       "      <td>580197</td>\n",
       "    </tr>\n",
       "    <tr>\n",
       "      <th>146</th>\n",
       "      <td>580197</td>\n",
       "    </tr>\n",
       "    <tr>\n",
       "      <th>...</th>\n",
       "      <td>...</td>\n",
       "    </tr>\n",
       "    <tr>\n",
       "      <th>40602</th>\n",
       "      <td>648559</td>\n",
       "    </tr>\n",
       "    <tr>\n",
       "      <th>40603</th>\n",
       "      <td>648559</td>\n",
       "    </tr>\n",
       "    <tr>\n",
       "      <th>40604</th>\n",
       "      <td>648559</td>\n",
       "    </tr>\n",
       "    <tr>\n",
       "      <th>40605</th>\n",
       "      <td>648559</td>\n",
       "    </tr>\n",
       "    <tr>\n",
       "      <th>40606</th>\n",
       "      <td>648559</td>\n",
       "    </tr>\n",
       "  </tbody>\n",
       "</table>\n",
       "<p>40465 rows × 1 columns</p>\n",
       "</div>"
      ],
      "text/plain": [
       "       shop_id\n",
       "142     580197\n",
       "143     580197\n",
       "144     580197\n",
       "145     580197\n",
       "146     580197\n",
       "...        ...\n",
       "40602   648559\n",
       "40603   648559\n",
       "40604   648559\n",
       "40605   648559\n",
       "40606   648559\n",
       "\n",
       "[40465 rows x 1 columns]"
      ]
     },
     "execution_count": 10,
     "metadata": {},
     "output_type": "execute_result"
    }
   ],
   "source": [
    "# Menggunakan iloc untuk slicing\n",
    "metode1 = produk.iloc[142:, 3:]\n",
    "metode1"
   ]
  },
  {
   "cell_type": "code",
   "execution_count": 11,
   "id": "31606c83-1024-4e24-a56d-147501fe63e7",
   "metadata": {},
   "outputs": [
    {
     "name": "stdout",
     "output_type": "stream",
     "text": [
      "       shop_id\n",
      "142     580197\n",
      "143     580197\n",
      "144     580197\n",
      "145     580197\n",
      "146     580197\n",
      "...        ...\n",
      "40602   648559\n",
      "40603   648559\n",
      "40604   648559\n",
      "40605   648559\n",
      "40606   648559\n",
      "\n",
      "[40465 rows x 1 columns]\n"
     ]
    }
   ],
   "source": [
    "# Menggunakan loc untuk slicing\n",
    "metode2 = produk[142:].iloc[:, 3:]\n",
    "print(metode2)"
   ]
  },
  {
   "cell_type": "markdown",
   "id": "bd24b4a0-e5e2-42c8-838c-722bb380eae4",
   "metadata": {},
   "source": [
    "***5. Tampilkan jumlah label dari semua attribute yang bernilai object (contoh : Jenis Kelamin, Agama).****"
   ]
  },
  {
   "cell_type": "code",
   "execution_count": 12,
   "id": "02b17692-021c-449e-a67f-55d82e096dec",
   "metadata": {},
   "outputs": [
    {
     "data": {
      "text/plain": [
       "text            37301\n",
       "category            5\n",
       "product_name     3647\n",
       "sold              305\n",
       "product_url      3664\n",
       "dtype: int64"
      ]
     },
     "execution_count": 12,
     "metadata": {},
     "output_type": "execute_result"
    }
   ],
   "source": [
    "produk = pd.read_csv('product_reviews_dirty.csv')\n",
    "objek = produk.select_dtypes(include=['object'])\n",
    "jumlah_nilai_unik = objek.nunique()\n",
    "jumlah_nilai_unik"
   ]
  },
  {
   "cell_type": "code",
   "execution_count": null,
   "id": "813fa654-7409-47d6-bfd4-7dc14c0b3d5b",
   "metadata": {},
   "outputs": [],
   "source": []
  }
 ],
 "metadata": {
  "kernelspec": {
   "display_name": "Python 3 (ipykernel)",
   "language": "python",
   "name": "python3"
  },
  "language_info": {
   "codemirror_mode": {
    "name": "ipython",
    "version": 3
   },
   "file_extension": ".py",
   "mimetype": "text/x-python",
   "name": "python",
   "nbconvert_exporter": "python",
   "pygments_lexer": "ipython3",
   "version": "3.10.7"
  }
 },
 "nbformat": 4,
 "nbformat_minor": 5
}
