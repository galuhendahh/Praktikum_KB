{
  "nbformat": 4,
  "nbformat_minor": 0,
  "metadata": {
    "colab": {
      "provenance": []
    },
    "kernelspec": {
      "name": "python3",
      "display_name": "Python 3"
    },
    "language_info": {
      "name": "python"
    }
  },
  "cells": [
    {
      "cell_type": "markdown",
      "source": [
        "# Nama: Galuh Endah Pambudi\n",
        "#NIM: 2109106142\n",
        "# POSTTEST 6"
      ],
      "metadata": {
        "id": "dP8WQs6Lr530"
      }
    },
    {
      "cell_type": "markdown",
      "source": [
        "### Library Yang Digunakan"
      ],
      "metadata": {
        "id": "CzP4frhpsDM1"
      }
    },
    {
      "cell_type": "code",
      "execution_count": 1,
      "metadata": {
        "id": "9DahfLuOrvNF"
      },
      "outputs": [],
      "source": [
        "import pandas as pd\n",
        "import numpy as np\n",
        "import tensorflow as tf\n",
        "from sklearn.model_selection import train_test_split\n",
        "from sklearn.preprocessing import StandardScaler\n",
        "from sklearn.metrics import accuracy_score\n",
        "from tensorflow.keras.models import Sequential\n",
        "from tensorflow.keras import layers\n",
        "from tensorflow.keras.callbacks import EarlyStopping, ModelCheckpoint\n",
        "from tensorflow import keras\n",
        "import matplotlib.pyplot as plt"
      ]
    },
    {
      "cell_type": "markdown",
      "source": [
        "### Menampilkan Data Dalam Dataset"
      ],
      "metadata": {
        "id": "Gt0AB25nsN_B"
      }
    },
    {
      "cell_type": "code",
      "source": [
        "data = pd.read_csv(\"product_reviews_dirty.csv\")\n",
        "\n",
        "data"
      ],
      "metadata": {
        "colab": {
          "base_uri": "https://localhost:8080/",
          "height": 1000
        },
        "id": "qmUb9PKpsKzN",
        "outputId": "a0d5fee9-eb8d-473c-e7b3-cb6a8c246b31"
      },
      "execution_count": 2,
      "outputs": [
        {
          "output_type": "execute_result",
          "data": {
            "text/plain": [
              "       Unnamed: 0                                               text  rating  \\\n",
              "0               1             Barang sesuai pesanan dan cepat sampai       5   \n",
              "1               2                           Barang bagus harga murah       5   \n",
              "2               3    Paket rapi...mantap....cepat....sampe ke tujuan       5   \n",
              "3               4                         ya saya puas dgn barangnya       5   \n",
              "4               5                       Responya luar biasa b mantap       5   \n",
              "...           ...                                                ...     ...   \n",
              "40602       40889                gak bisa ditutup.. ukuran gak pas..       1   \n",
              "40603       40890  Penjual krg peduli dan brg jelek. Brg yg dikir...       1   \n",
              "40604       40891  pelayanan kurang sigap, berhari2 dr nanya baik...       1   \n",
              "40605       40892  barang yg dikirim tsk sesuai wrn, kl memang dr...       1   \n",
              "40606       40893  Pihak penjual memberikan respon yang buruk kep...       1   \n",
              "\n",
              "          category                                       product_name  \\\n",
              "0      pertukangan  Staples Dekorasi Staples Kayu + Refill 8mm - S...   \n",
              "1      pertukangan  STAPLE GUN ATS 3 WAY TACKER - STAPLES JOK TEMB...   \n",
              "2      pertukangan  STAPLE GUN ATS 3 WAY TACKER - STAPLES JOK TEMB...   \n",
              "3      pertukangan  ALAT STAPLES TEMBAK &#40;AIR NAILER GUN&#41; O...   \n",
              "4      pertukangan  Isi Refill Staples Jok Kulit Motor / Staple Gu...   \n",
              "...            ...                                                ...   \n",
              "40602     olahraga  MINERAL WATER POT WATER PURIFIER 28 liter BIO ...   \n",
              "40603     olahraga  PANCI PRESTO IDEALIFE 7 LITER - IL 707 &#40; I...   \n",
              "40604     olahraga  EXCIDER BIKE 2 - sepeda fitnes magnetic lipat ...   \n",
              "40605     olahraga  TOTAL FITNES ALAT FITNESS SIT UP BENCH TOTAL &...   \n",
              "40606     olahraga  SIT UP BENCH HITAM 3 SISI - SITUP BANCH INCLIN...   \n",
              "\n",
              "       product_id   sold  shop_id  \\\n",
              "0       418660637      1  1740837   \n",
              "1       416032545     11  1477109   \n",
              "2       416032545     11  1477109   \n",
              "3       102279869      5   771395   \n",
              "4       190679689    787   969999   \n",
              "...           ...    ...      ...   \n",
              "40602   144442054      2   648559   \n",
              "40603   313781913      1   648559   \n",
              "40604    71873370      1   648559   \n",
              "40605   201690705      2   648559   \n",
              "40606    78857201          648559   \n",
              "\n",
              "                                             product_url  \n",
              "0      https://www.tokopedia.com/shakaonline87/staple...  \n",
              "1      https://www.tokopedia.com/juraganperkakas/stap...  \n",
              "2      https://www.tokopedia.com/juraganperkakas/stap...  \n",
              "3      https://www.tokopedia.com/kamarmesin/alat-stap...  \n",
              "4      https://www.tokopedia.com/mitrapersada/isi-ref...  \n",
              "...                                                  ...  \n",
              "40602  https://www.tokopedia.com/pusatdermawand/miner...  \n",
              "40603  https://www.tokopedia.com/pusatdermawand/panci...  \n",
              "40604  https://www.tokopedia.com/pusatdermawand/excid...  \n",
              "40605  https://www.tokopedia.com/pusatdermawand/total...  \n",
              "40606  https://www.tokopedia.com/pusatdermawand/sit-u...  \n",
              "\n",
              "[40607 rows x 9 columns]"
            ],
            "text/html": [
              "\n",
              "  <div id=\"df-47f4e75b-c402-4475-bb02-6d3429a5071d\" class=\"colab-df-container\">\n",
              "    <div>\n",
              "<style scoped>\n",
              "    .dataframe tbody tr th:only-of-type {\n",
              "        vertical-align: middle;\n",
              "    }\n",
              "\n",
              "    .dataframe tbody tr th {\n",
              "        vertical-align: top;\n",
              "    }\n",
              "\n",
              "    .dataframe thead th {\n",
              "        text-align: right;\n",
              "    }\n",
              "</style>\n",
              "<table border=\"1\" class=\"dataframe\">\n",
              "  <thead>\n",
              "    <tr style=\"text-align: right;\">\n",
              "      <th></th>\n",
              "      <th>Unnamed: 0</th>\n",
              "      <th>text</th>\n",
              "      <th>rating</th>\n",
              "      <th>category</th>\n",
              "      <th>product_name</th>\n",
              "      <th>product_id</th>\n",
              "      <th>sold</th>\n",
              "      <th>shop_id</th>\n",
              "      <th>product_url</th>\n",
              "    </tr>\n",
              "  </thead>\n",
              "  <tbody>\n",
              "    <tr>\n",
              "      <th>0</th>\n",
              "      <td>1</td>\n",
              "      <td>Barang sesuai pesanan dan cepat sampai</td>\n",
              "      <td>5</td>\n",
              "      <td>pertukangan</td>\n",
              "      <td>Staples Dekorasi Staples Kayu + Refill 8mm - S...</td>\n",
              "      <td>418660637</td>\n",
              "      <td>1</td>\n",
              "      <td>1740837</td>\n",
              "      <td>https://www.tokopedia.com/shakaonline87/staple...</td>\n",
              "    </tr>\n",
              "    <tr>\n",
              "      <th>1</th>\n",
              "      <td>2</td>\n",
              "      <td>Barang bagus harga murah</td>\n",
              "      <td>5</td>\n",
              "      <td>pertukangan</td>\n",
              "      <td>STAPLE GUN ATS 3 WAY TACKER - STAPLES JOK TEMB...</td>\n",
              "      <td>416032545</td>\n",
              "      <td>11</td>\n",
              "      <td>1477109</td>\n",
              "      <td>https://www.tokopedia.com/juraganperkakas/stap...</td>\n",
              "    </tr>\n",
              "    <tr>\n",
              "      <th>2</th>\n",
              "      <td>3</td>\n",
              "      <td>Paket rapi...mantap....cepat....sampe ke tujuan</td>\n",
              "      <td>5</td>\n",
              "      <td>pertukangan</td>\n",
              "      <td>STAPLE GUN ATS 3 WAY TACKER - STAPLES JOK TEMB...</td>\n",
              "      <td>416032545</td>\n",
              "      <td>11</td>\n",
              "      <td>1477109</td>\n",
              "      <td>https://www.tokopedia.com/juraganperkakas/stap...</td>\n",
              "    </tr>\n",
              "    <tr>\n",
              "      <th>3</th>\n",
              "      <td>4</td>\n",
              "      <td>ya saya puas dgn barangnya</td>\n",
              "      <td>5</td>\n",
              "      <td>pertukangan</td>\n",
              "      <td>ALAT STAPLES TEMBAK &amp;#40;AIR NAILER GUN&amp;#41; O...</td>\n",
              "      <td>102279869</td>\n",
              "      <td>5</td>\n",
              "      <td>771395</td>\n",
              "      <td>https://www.tokopedia.com/kamarmesin/alat-stap...</td>\n",
              "    </tr>\n",
              "    <tr>\n",
              "      <th>4</th>\n",
              "      <td>5</td>\n",
              "      <td>Responya luar biasa b mantap</td>\n",
              "      <td>5</td>\n",
              "      <td>pertukangan</td>\n",
              "      <td>Isi Refill Staples Jok Kulit Motor / Staple Gu...</td>\n",
              "      <td>190679689</td>\n",
              "      <td>787</td>\n",
              "      <td>969999</td>\n",
              "      <td>https://www.tokopedia.com/mitrapersada/isi-ref...</td>\n",
              "    </tr>\n",
              "    <tr>\n",
              "      <th>...</th>\n",
              "      <td>...</td>\n",
              "      <td>...</td>\n",
              "      <td>...</td>\n",
              "      <td>...</td>\n",
              "      <td>...</td>\n",
              "      <td>...</td>\n",
              "      <td>...</td>\n",
              "      <td>...</td>\n",
              "      <td>...</td>\n",
              "    </tr>\n",
              "    <tr>\n",
              "      <th>40602</th>\n",
              "      <td>40889</td>\n",
              "      <td>gak bisa ditutup.. ukuran gak pas..</td>\n",
              "      <td>1</td>\n",
              "      <td>olahraga</td>\n",
              "      <td>MINERAL WATER POT WATER PURIFIER 28 liter BIO ...</td>\n",
              "      <td>144442054</td>\n",
              "      <td>2</td>\n",
              "      <td>648559</td>\n",
              "      <td>https://www.tokopedia.com/pusatdermawand/miner...</td>\n",
              "    </tr>\n",
              "    <tr>\n",
              "      <th>40603</th>\n",
              "      <td>40890</td>\n",
              "      <td>Penjual krg peduli dan brg jelek. Brg yg dikir...</td>\n",
              "      <td>1</td>\n",
              "      <td>olahraga</td>\n",
              "      <td>PANCI PRESTO IDEALIFE 7 LITER - IL 707 &amp;#40; I...</td>\n",
              "      <td>313781913</td>\n",
              "      <td>1</td>\n",
              "      <td>648559</td>\n",
              "      <td>https://www.tokopedia.com/pusatdermawand/panci...</td>\n",
              "    </tr>\n",
              "    <tr>\n",
              "      <th>40604</th>\n",
              "      <td>40891</td>\n",
              "      <td>pelayanan kurang sigap, berhari2 dr nanya baik...</td>\n",
              "      <td>1</td>\n",
              "      <td>olahraga</td>\n",
              "      <td>EXCIDER BIKE 2 - sepeda fitnes magnetic lipat ...</td>\n",
              "      <td>71873370</td>\n",
              "      <td>1</td>\n",
              "      <td>648559</td>\n",
              "      <td>https://www.tokopedia.com/pusatdermawand/excid...</td>\n",
              "    </tr>\n",
              "    <tr>\n",
              "      <th>40605</th>\n",
              "      <td>40892</td>\n",
              "      <td>barang yg dikirim tsk sesuai wrn, kl memang dr...</td>\n",
              "      <td>1</td>\n",
              "      <td>olahraga</td>\n",
              "      <td>TOTAL FITNES ALAT FITNESS SIT UP BENCH TOTAL &amp;...</td>\n",
              "      <td>201690705</td>\n",
              "      <td>2</td>\n",
              "      <td>648559</td>\n",
              "      <td>https://www.tokopedia.com/pusatdermawand/total...</td>\n",
              "    </tr>\n",
              "    <tr>\n",
              "      <th>40606</th>\n",
              "      <td>40893</td>\n",
              "      <td>Pihak penjual memberikan respon yang buruk kep...</td>\n",
              "      <td>1</td>\n",
              "      <td>olahraga</td>\n",
              "      <td>SIT UP BENCH HITAM 3 SISI - SITUP BANCH INCLIN...</td>\n",
              "      <td>78857201</td>\n",
              "      <td></td>\n",
              "      <td>648559</td>\n",
              "      <td>https://www.tokopedia.com/pusatdermawand/sit-u...</td>\n",
              "    </tr>\n",
              "  </tbody>\n",
              "</table>\n",
              "<p>40607 rows × 9 columns</p>\n",
              "</div>\n",
              "    <div class=\"colab-df-buttons\">\n",
              "\n",
              "  <div class=\"colab-df-container\">\n",
              "    <button class=\"colab-df-convert\" onclick=\"convertToInteractive('df-47f4e75b-c402-4475-bb02-6d3429a5071d')\"\n",
              "            title=\"Convert this dataframe to an interactive table.\"\n",
              "            style=\"display:none;\">\n",
              "\n",
              "  <svg xmlns=\"http://www.w3.org/2000/svg\" height=\"24px\" viewBox=\"0 -960 960 960\">\n",
              "    <path d=\"M120-120v-720h720v720H120Zm60-500h600v-160H180v160Zm220 220h160v-160H400v160Zm0 220h160v-160H400v160ZM180-400h160v-160H180v160Zm440 0h160v-160H620v160ZM180-180h160v-160H180v160Zm440 0h160v-160H620v160Z\"/>\n",
              "  </svg>\n",
              "    </button>\n",
              "\n",
              "  <style>\n",
              "    .colab-df-container {\n",
              "      display:flex;\n",
              "      gap: 12px;\n",
              "    }\n",
              "\n",
              "    .colab-df-convert {\n",
              "      background-color: #E8F0FE;\n",
              "      border: none;\n",
              "      border-radius: 50%;\n",
              "      cursor: pointer;\n",
              "      display: none;\n",
              "      fill: #1967D2;\n",
              "      height: 32px;\n",
              "      padding: 0 0 0 0;\n",
              "      width: 32px;\n",
              "    }\n",
              "\n",
              "    .colab-df-convert:hover {\n",
              "      background-color: #E2EBFA;\n",
              "      box-shadow: 0px 1px 2px rgba(60, 64, 67, 0.3), 0px 1px 3px 1px rgba(60, 64, 67, 0.15);\n",
              "      fill: #174EA6;\n",
              "    }\n",
              "\n",
              "    .colab-df-buttons div {\n",
              "      margin-bottom: 4px;\n",
              "    }\n",
              "\n",
              "    [theme=dark] .colab-df-convert {\n",
              "      background-color: #3B4455;\n",
              "      fill: #D2E3FC;\n",
              "    }\n",
              "\n",
              "    [theme=dark] .colab-df-convert:hover {\n",
              "      background-color: #434B5C;\n",
              "      box-shadow: 0px 1px 3px 1px rgba(0, 0, 0, 0.15);\n",
              "      filter: drop-shadow(0px 1px 2px rgba(0, 0, 0, 0.3));\n",
              "      fill: #FFFFFF;\n",
              "    }\n",
              "  </style>\n",
              "\n",
              "    <script>\n",
              "      const buttonEl =\n",
              "        document.querySelector('#df-47f4e75b-c402-4475-bb02-6d3429a5071d button.colab-df-convert');\n",
              "      buttonEl.style.display =\n",
              "        google.colab.kernel.accessAllowed ? 'block' : 'none';\n",
              "\n",
              "      async function convertToInteractive(key) {\n",
              "        const element = document.querySelector('#df-47f4e75b-c402-4475-bb02-6d3429a5071d');\n",
              "        const dataTable =\n",
              "          await google.colab.kernel.invokeFunction('convertToInteractive',\n",
              "                                                    [key], {});\n",
              "        if (!dataTable) return;\n",
              "\n",
              "        const docLinkHtml = 'Like what you see? Visit the ' +\n",
              "          '<a target=\"_blank\" href=https://colab.research.google.com/notebooks/data_table.ipynb>data table notebook</a>'\n",
              "          + ' to learn more about interactive tables.';\n",
              "        element.innerHTML = '';\n",
              "        dataTable['output_type'] = 'display_data';\n",
              "        await google.colab.output.renderOutput(dataTable, element);\n",
              "        const docLink = document.createElement('div');\n",
              "        docLink.innerHTML = docLinkHtml;\n",
              "        element.appendChild(docLink);\n",
              "      }\n",
              "    </script>\n",
              "  </div>\n",
              "\n",
              "\n",
              "<div id=\"df-612538c1-82b6-49a8-ae4d-307f07d98398\">\n",
              "  <button class=\"colab-df-quickchart\" onclick=\"quickchart('df-612538c1-82b6-49a8-ae4d-307f07d98398')\"\n",
              "            title=\"Suggest charts.\"\n",
              "            style=\"display:none;\">\n",
              "\n",
              "<svg xmlns=\"http://www.w3.org/2000/svg\" height=\"24px\"viewBox=\"0 0 24 24\"\n",
              "     width=\"24px\">\n",
              "    <g>\n",
              "        <path d=\"M19 3H5c-1.1 0-2 .9-2 2v14c0 1.1.9 2 2 2h14c1.1 0 2-.9 2-2V5c0-1.1-.9-2-2-2zM9 17H7v-7h2v7zm4 0h-2V7h2v10zm4 0h-2v-4h2v4z\"/>\n",
              "    </g>\n",
              "</svg>\n",
              "  </button>\n",
              "\n",
              "<style>\n",
              "  .colab-df-quickchart {\n",
              "      --bg-color: #E8F0FE;\n",
              "      --fill-color: #1967D2;\n",
              "      --hover-bg-color: #E2EBFA;\n",
              "      --hover-fill-color: #174EA6;\n",
              "      --disabled-fill-color: #AAA;\n",
              "      --disabled-bg-color: #DDD;\n",
              "  }\n",
              "\n",
              "  [theme=dark] .colab-df-quickchart {\n",
              "      --bg-color: #3B4455;\n",
              "      --fill-color: #D2E3FC;\n",
              "      --hover-bg-color: #434B5C;\n",
              "      --hover-fill-color: #FFFFFF;\n",
              "      --disabled-bg-color: #3B4455;\n",
              "      --disabled-fill-color: #666;\n",
              "  }\n",
              "\n",
              "  .colab-df-quickchart {\n",
              "    background-color: var(--bg-color);\n",
              "    border: none;\n",
              "    border-radius: 50%;\n",
              "    cursor: pointer;\n",
              "    display: none;\n",
              "    fill: var(--fill-color);\n",
              "    height: 32px;\n",
              "    padding: 0;\n",
              "    width: 32px;\n",
              "  }\n",
              "\n",
              "  .colab-df-quickchart:hover {\n",
              "    background-color: var(--hover-bg-color);\n",
              "    box-shadow: 0 1px 2px rgba(60, 64, 67, 0.3), 0 1px 3px 1px rgba(60, 64, 67, 0.15);\n",
              "    fill: var(--button-hover-fill-color);\n",
              "  }\n",
              "\n",
              "  .colab-df-quickchart-complete:disabled,\n",
              "  .colab-df-quickchart-complete:disabled:hover {\n",
              "    background-color: var(--disabled-bg-color);\n",
              "    fill: var(--disabled-fill-color);\n",
              "    box-shadow: none;\n",
              "  }\n",
              "\n",
              "  .colab-df-spinner {\n",
              "    border: 2px solid var(--fill-color);\n",
              "    border-color: transparent;\n",
              "    border-bottom-color: var(--fill-color);\n",
              "    animation:\n",
              "      spin 1s steps(1) infinite;\n",
              "  }\n",
              "\n",
              "  @keyframes spin {\n",
              "    0% {\n",
              "      border-color: transparent;\n",
              "      border-bottom-color: var(--fill-color);\n",
              "      border-left-color: var(--fill-color);\n",
              "    }\n",
              "    20% {\n",
              "      border-color: transparent;\n",
              "      border-left-color: var(--fill-color);\n",
              "      border-top-color: var(--fill-color);\n",
              "    }\n",
              "    30% {\n",
              "      border-color: transparent;\n",
              "      border-left-color: var(--fill-color);\n",
              "      border-top-color: var(--fill-color);\n",
              "      border-right-color: var(--fill-color);\n",
              "    }\n",
              "    40% {\n",
              "      border-color: transparent;\n",
              "      border-right-color: var(--fill-color);\n",
              "      border-top-color: var(--fill-color);\n",
              "    }\n",
              "    60% {\n",
              "      border-color: transparent;\n",
              "      border-right-color: var(--fill-color);\n",
              "    }\n",
              "    80% {\n",
              "      border-color: transparent;\n",
              "      border-right-color: var(--fill-color);\n",
              "      border-bottom-color: var(--fill-color);\n",
              "    }\n",
              "    90% {\n",
              "      border-color: transparent;\n",
              "      border-bottom-color: var(--fill-color);\n",
              "    }\n",
              "  }\n",
              "</style>\n",
              "\n",
              "  <script>\n",
              "    async function quickchart(key) {\n",
              "      const quickchartButtonEl =\n",
              "        document.querySelector('#' + key + ' button');\n",
              "      quickchartButtonEl.disabled = true;  // To prevent multiple clicks.\n",
              "      quickchartButtonEl.classList.add('colab-df-spinner');\n",
              "      try {\n",
              "        const charts = await google.colab.kernel.invokeFunction(\n",
              "            'suggestCharts', [key], {});\n",
              "      } catch (error) {\n",
              "        console.error('Error during call to suggestCharts:', error);\n",
              "      }\n",
              "      quickchartButtonEl.classList.remove('colab-df-spinner');\n",
              "      quickchartButtonEl.classList.add('colab-df-quickchart-complete');\n",
              "    }\n",
              "    (() => {\n",
              "      let quickchartButtonEl =\n",
              "        document.querySelector('#df-612538c1-82b6-49a8-ae4d-307f07d98398 button');\n",
              "      quickchartButtonEl.style.display =\n",
              "        google.colab.kernel.accessAllowed ? 'block' : 'none';\n",
              "    })();\n",
              "  </script>\n",
              "</div>\n",
              "    </div>\n",
              "  </div>\n"
            ]
          },
          "metadata": {},
          "execution_count": 2
        }
      ]
    },
    {
      "cell_type": "markdown",
      "source": [
        "###Memilih Atribut x dan y\n"
      ],
      "metadata": {
        "id": "6CI6Lst1d67H"
      }
    },
    {
      "cell_type": "code",
      "source": [
        "# Memilih atribut age dan blood_glucose_level sebagai atribut x\n",
        "X = data[['rating', 'sold']]\n",
        "\n",
        "# Memilih atribut diabetes sebagai label y\n",
        "y = data['shop_id']"
      ],
      "metadata": {
        "id": "HfpJj9AHetON"
      },
      "execution_count": 3,
      "outputs": []
    },
    {
      "cell_type": "markdown",
      "source": [
        "###Split Dataset Menjadi train dan set"
      ],
      "metadata": {
        "id": "04g8Jxgojldm"
      }
    },
    {
      "cell_type": "code",
      "source": [
        "# Memisahkan dataset menjadi train  dan test\n",
        "X_train, X_test, y_train, y_test = train_test_split(X, y, test_size=0.2, random_state=42)"
      ],
      "metadata": {
        "id": "M6bdsixRfNdP"
      },
      "execution_count": 4,
      "outputs": []
    },
    {
      "cell_type": "markdown",
      "source": [
        "###Membangun model Dengan Sequential\n",
        "Dan Output Layer Target Saya Adalah Kategorikal Menggunakan biner"
      ],
      "metadata": {
        "id": "VA34SNgFjuFc"
      }
    },
    {
      "cell_type": "code",
      "source": [
        "model = keras.Sequential([\n",
        "    keras.layers.Dense(64, activation='relu', input_shape=(2,)),\n",
        "    keras.layers.Dense(32, activation='relu'),\n",
        "    keras.layers.Dense(1, activation='sigmoid')\n",
        "    ])"
      ],
      "metadata": {
        "id": "i-jOIcEvjqW0"
      },
      "execution_count": 5,
      "outputs": []
    },
    {
      "cell_type": "markdown",
      "source": [
        "###Compile Model Dengan binary_crossentropy, accuracy"
      ],
      "metadata": {
        "id": "0yr4oKrBkV4q"
      }
    },
    {
      "cell_type": "code",
      "source": [
        "# Kompilasi model\n",
        "model.compile(optimizer='adam', loss='binary_crossentropy', metrics=['accuracy'])"
      ],
      "metadata": {
        "id": "Gm5tWJZBjyDW"
      },
      "execution_count": 6,
      "outputs": []
    },
    {
      "cell_type": "markdown",
      "source": [
        "###Model Compile\n"
      ],
      "metadata": {
        "id": "mwDUw9UvkjT4"
      }
    },
    {
      "cell_type": "code",
      "source": [
        "model = Sequential()\n",
        "model.add(layers.Dense(64, activation='relu', input_dim=X_train.shape[1]))\n",
        "model.add(layers.Dense(32, activation='relu'))\n",
        "model.add(layers.Dense(16, activation='relu'))\n",
        "model.add(layers.Dense(1, activation='sigmoid'))\n",
        "model.summary()"
      ],
      "metadata": {
        "colab": {
          "base_uri": "https://localhost:8080/"
        },
        "id": "XrCi5r1Qwm6A",
        "outputId": "b084caca-d96a-47f9-99b3-d712ec89b3b5"
      },
      "execution_count": 7,
      "outputs": [
        {
          "output_type": "stream",
          "name": "stdout",
          "text": [
            "Model: \"sequential_1\"\n",
            "_________________________________________________________________\n",
            " Layer (type)                Output Shape              Param #   \n",
            "=================================================================\n",
            " dense_3 (Dense)             (None, 64)                192       \n",
            "                                                                 \n",
            " dense_4 (Dense)             (None, 32)                2080      \n",
            "                                                                 \n",
            " dense_5 (Dense)             (None, 16)                528       \n",
            "                                                                 \n",
            " dense_6 (Dense)             (None, 1)                 17        \n",
            "                                                                 \n",
            "=================================================================\n",
            "Total params: 2817 (11.00 KB)\n",
            "Trainable params: 2817 (11.00 KB)\n",
            "Non-trainable params: 0 (0.00 Byte)\n",
            "_________________________________________________________________\n"
          ]
        }
      ]
    },
    {
      "cell_type": "code",
      "source": [
        "early_stopping = EarlyStopping(monitor='val_loss', patience=10, restore_best_weights=True)"
      ],
      "metadata": {
        "id": "TIqwonR7xIhs"
      },
      "execution_count": 8,
      "outputs": []
    },
    {
      "cell_type": "code",
      "source": [
        "model_checkpoint = ModelCheckpoint('best_model.h5', save_best_only=True)"
      ],
      "metadata": {
        "id": "1S2AX9Qrx0G0"
      },
      "execution_count": 9,
      "outputs": []
    },
    {
      "cell_type": "code",
      "source": [
        "model.compile(optimizer='adam', loss='binary_crossentropy', metrics=['accuracy'])"
      ],
      "metadata": {
        "id": "GRLeqHeGwncg"
      },
      "execution_count": 10,
      "outputs": []
    },
    {
      "cell_type": "code",
      "source": [
        "history = model.fit(X_train, y_train, epochs=100, batch_size=64, validation_split=0.2, callbacks=[early_stopping, model_checkpoint])"
      ],
      "metadata": {
        "colab": {
          "base_uri": "https://localhost:8080/",
          "height": 321
        },
        "id": "TFKqHHJdyVz3",
        "outputId": "c7b95745-7c1e-4f71-8994-af76facc43eb"
      },
      "execution_count": 12,
      "outputs": [
        {
          "output_type": "error",
          "ename": "ValueError",
          "evalue": "ignored",
          "traceback": [
            "\u001b[0;31m---------------------------------------------------------------------------\u001b[0m",
            "\u001b[0;31mValueError\u001b[0m                                Traceback (most recent call last)",
            "\u001b[0;32m<ipython-input-12-4d4a4a82d0bd>\u001b[0m in \u001b[0;36m<cell line: 1>\u001b[0;34m()\u001b[0m\n\u001b[0;32m----> 1\u001b[0;31m \u001b[0mhistory\u001b[0m \u001b[0;34m=\u001b[0m \u001b[0mmodel\u001b[0m\u001b[0;34m.\u001b[0m\u001b[0mfit\u001b[0m\u001b[0;34m(\u001b[0m\u001b[0mX_train\u001b[0m\u001b[0;34m,\u001b[0m \u001b[0my_train\u001b[0m\u001b[0;34m,\u001b[0m \u001b[0mepochs\u001b[0m\u001b[0;34m=\u001b[0m\u001b[0;36m100\u001b[0m\u001b[0;34m,\u001b[0m \u001b[0mbatch_size\u001b[0m\u001b[0;34m=\u001b[0m\u001b[0;36m64\u001b[0m\u001b[0;34m,\u001b[0m \u001b[0mvalidation_split\u001b[0m\u001b[0;34m=\u001b[0m\u001b[0;36m0.2\u001b[0m\u001b[0;34m,\u001b[0m \u001b[0mcallbacks\u001b[0m\u001b[0;34m=\u001b[0m\u001b[0;34m[\u001b[0m\u001b[0mearly_stopping\u001b[0m\u001b[0;34m,\u001b[0m \u001b[0mmodel_checkpoint\u001b[0m\u001b[0;34m]\u001b[0m\u001b[0;34m)\u001b[0m\u001b[0;34m\u001b[0m\u001b[0;34m\u001b[0m\u001b[0m\n\u001b[0m",
            "\u001b[0;32m/usr/local/lib/python3.10/dist-packages/keras/src/utils/traceback_utils.py\u001b[0m in \u001b[0;36merror_handler\u001b[0;34m(*args, **kwargs)\u001b[0m\n\u001b[1;32m     68\u001b[0m             \u001b[0;31m# To get the full stack trace, call:\u001b[0m\u001b[0;34m\u001b[0m\u001b[0;34m\u001b[0m\u001b[0m\n\u001b[1;32m     69\u001b[0m             \u001b[0;31m# `tf.debugging.disable_traceback_filtering()`\u001b[0m\u001b[0;34m\u001b[0m\u001b[0;34m\u001b[0m\u001b[0m\n\u001b[0;32m---> 70\u001b[0;31m             \u001b[0;32mraise\u001b[0m \u001b[0me\u001b[0m\u001b[0;34m.\u001b[0m\u001b[0mwith_traceback\u001b[0m\u001b[0;34m(\u001b[0m\u001b[0mfiltered_tb\u001b[0m\u001b[0;34m)\u001b[0m \u001b[0;32mfrom\u001b[0m \u001b[0;32mNone\u001b[0m\u001b[0;34m\u001b[0m\u001b[0;34m\u001b[0m\u001b[0m\n\u001b[0m\u001b[1;32m     71\u001b[0m         \u001b[0;32mfinally\u001b[0m\u001b[0;34m:\u001b[0m\u001b[0;34m\u001b[0m\u001b[0;34m\u001b[0m\u001b[0m\n\u001b[1;32m     72\u001b[0m             \u001b[0;32mdel\u001b[0m \u001b[0mfiltered_tb\u001b[0m\u001b[0;34m\u001b[0m\u001b[0;34m\u001b[0m\u001b[0m\n",
            "\u001b[0;32m/usr/local/lib/python3.10/dist-packages/tensorflow/python/framework/constant_op.py\u001b[0m in \u001b[0;36mconvert_to_eager_tensor\u001b[0;34m(value, ctx, dtype)\u001b[0m\n\u001b[1;32m    100\u001b[0m       \u001b[0mdtype\u001b[0m \u001b[0;34m=\u001b[0m \u001b[0mdtypes\u001b[0m\u001b[0;34m.\u001b[0m\u001b[0mas_dtype\u001b[0m\u001b[0;34m(\u001b[0m\u001b[0mdtype\u001b[0m\u001b[0;34m)\u001b[0m\u001b[0;34m.\u001b[0m\u001b[0mas_datatype_enum\u001b[0m\u001b[0;34m\u001b[0m\u001b[0;34m\u001b[0m\u001b[0m\n\u001b[1;32m    101\u001b[0m   \u001b[0mctx\u001b[0m\u001b[0;34m.\u001b[0m\u001b[0mensure_initialized\u001b[0m\u001b[0;34m(\u001b[0m\u001b[0;34m)\u001b[0m\u001b[0;34m\u001b[0m\u001b[0;34m\u001b[0m\u001b[0m\n\u001b[0;32m--> 102\u001b[0;31m   \u001b[0;32mreturn\u001b[0m \u001b[0mops\u001b[0m\u001b[0;34m.\u001b[0m\u001b[0mEagerTensor\u001b[0m\u001b[0;34m(\u001b[0m\u001b[0mvalue\u001b[0m\u001b[0;34m,\u001b[0m \u001b[0mctx\u001b[0m\u001b[0;34m.\u001b[0m\u001b[0mdevice_name\u001b[0m\u001b[0;34m,\u001b[0m \u001b[0mdtype\u001b[0m\u001b[0;34m)\u001b[0m\u001b[0;34m\u001b[0m\u001b[0;34m\u001b[0m\u001b[0m\n\u001b[0m\u001b[1;32m    103\u001b[0m \u001b[0;34m\u001b[0m\u001b[0m\n\u001b[1;32m    104\u001b[0m \u001b[0;34m\u001b[0m\u001b[0m\n",
            "\u001b[0;31mValueError\u001b[0m: Failed to convert a NumPy array to a Tensor (Unsupported object type int)."
          ]
        }
      ]
    },
    {
      "cell_type": "code",
      "source": [],
      "metadata": {
        "id": "gOLGN708zAjj"
      },
      "execution_count": null,
      "outputs": []
    }
  ]
}